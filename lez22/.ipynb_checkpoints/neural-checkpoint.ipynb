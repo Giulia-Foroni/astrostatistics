{
 "cells": [
  {
   "cell_type": "code",
   "execution_count": 1,
   "id": "c3ca8024-2e7a-42f6-bf13-ccd7e86ab709",
   "metadata": {
    "scrolled": true
   },
   "outputs": [
    {
     "name": "stdout",
     "output_type": "stream",
     "text": [
      "Requirement already satisfied: pip in c:\\users\\giuli\\anaconda3\\lib\\site-packages (24.2)\n",
      "Collecting pip\n",
      "  Using cached pip-25.1.1-py3-none-any.whl.metadata (3.6 kB)\n",
      "Using cached pip-25.1.1-py3-none-any.whl (1.8 MB)\n"
     ]
    },
    {
     "name": "stderr",
     "output_type": "stream",
     "text": [
      "ERROR: To modify pip, please run the following command:\n",
      "C:\\Users\\giuli\\anaconda3\\python.exe -m pip install --upgrade pip\n"
     ]
    },
    {
     "name": "stdout",
     "output_type": "stream",
     "text": [
      "Requirement already satisfied: tensorflow in c:\\users\\giuli\\anaconda3\\lib\\site-packages (2.19.0)\n",
      "Requirement already satisfied: absl-py>=1.0.0 in c:\\users\\giuli\\anaconda3\\lib\\site-packages (from tensorflow) (2.3.0)\n",
      "Requirement already satisfied: astunparse>=1.6.0 in c:\\users\\giuli\\anaconda3\\lib\\site-packages (from tensorflow) (1.6.3)\n",
      "Requirement already satisfied: flatbuffers>=24.3.25 in c:\\users\\giuli\\anaconda3\\lib\\site-packages (from tensorflow) (25.2.10)\n",
      "Requirement already satisfied: gast!=0.5.0,!=0.5.1,!=0.5.2,>=0.2.1 in c:\\users\\giuli\\anaconda3\\lib\\site-packages (from tensorflow) (0.6.0)\n",
      "Requirement already satisfied: google-pasta>=0.1.1 in c:\\users\\giuli\\anaconda3\\lib\\site-packages (from tensorflow) (0.2.0)\n",
      "Requirement already satisfied: libclang>=13.0.0 in c:\\users\\giuli\\anaconda3\\lib\\site-packages (from tensorflow) (18.1.1)\n",
      "Requirement already satisfied: opt-einsum>=2.3.2 in c:\\users\\giuli\\anaconda3\\lib\\site-packages (from tensorflow) (3.4.0)\n",
      "Requirement already satisfied: packaging in c:\\users\\giuli\\anaconda3\\lib\\site-packages (from tensorflow) (24.1)\n",
      "Requirement already satisfied: protobuf!=4.21.0,!=4.21.1,!=4.21.2,!=4.21.3,!=4.21.4,!=4.21.5,<6.0.0dev,>=3.20.3 in c:\\users\\giuli\\anaconda3\\lib\\site-packages (from tensorflow) (4.25.3)\n",
      "Requirement already satisfied: requests<3,>=2.21.0 in c:\\users\\giuli\\anaconda3\\lib\\site-packages (from tensorflow) (2.32.3)\n",
      "Requirement already satisfied: setuptools in c:\\users\\giuli\\anaconda3\\lib\\site-packages (from tensorflow) (75.1.0)\n",
      "Requirement already satisfied: six>=1.12.0 in c:\\users\\giuli\\anaconda3\\lib\\site-packages (from tensorflow) (1.16.0)\n",
      "Requirement already satisfied: termcolor>=1.1.0 in c:\\users\\giuli\\anaconda3\\lib\\site-packages (from tensorflow) (3.1.0)\n",
      "Requirement already satisfied: typing-extensions>=3.6.6 in c:\\users\\giuli\\anaconda3\\lib\\site-packages (from tensorflow) (4.11.0)\n",
      "Requirement already satisfied: wrapt>=1.11.0 in c:\\users\\giuli\\anaconda3\\lib\\site-packages (from tensorflow) (1.14.1)\n",
      "Requirement already satisfied: grpcio<2.0,>=1.24.3 in c:\\users\\giuli\\anaconda3\\lib\\site-packages (from tensorflow) (1.71.0)\n",
      "Requirement already satisfied: tensorboard~=2.19.0 in c:\\users\\giuli\\anaconda3\\lib\\site-packages (from tensorflow) (2.19.0)\n",
      "Requirement already satisfied: keras>=3.5.0 in c:\\users\\giuli\\anaconda3\\lib\\site-packages (from tensorflow) (3.10.0)\n",
      "Requirement already satisfied: numpy<2.2.0,>=1.26.0 in c:\\users\\giuli\\anaconda3\\lib\\site-packages (from tensorflow) (1.26.4)\n",
      "Requirement already satisfied: h5py>=3.11.0 in c:\\users\\giuli\\anaconda3\\lib\\site-packages (from tensorflow) (3.11.0)\n",
      "Requirement already satisfied: ml-dtypes<1.0.0,>=0.5.1 in c:\\users\\giuli\\anaconda3\\lib\\site-packages (from tensorflow) (0.5.1)\n",
      "Requirement already satisfied: wheel<1.0,>=0.23.0 in c:\\users\\giuli\\anaconda3\\lib\\site-packages (from astunparse>=1.6.0->tensorflow) (0.44.0)\n",
      "Requirement already satisfied: rich in c:\\users\\giuli\\anaconda3\\lib\\site-packages (from keras>=3.5.0->tensorflow) (13.7.1)\n",
      "Requirement already satisfied: namex in c:\\users\\giuli\\anaconda3\\lib\\site-packages (from keras>=3.5.0->tensorflow) (0.1.0)\n",
      "Requirement already satisfied: optree in c:\\users\\giuli\\anaconda3\\lib\\site-packages (from keras>=3.5.0->tensorflow) (0.16.0)\n",
      "Requirement already satisfied: charset-normalizer<4,>=2 in c:\\users\\giuli\\anaconda3\\lib\\site-packages (from requests<3,>=2.21.0->tensorflow) (3.3.2)\n",
      "Requirement already satisfied: idna<4,>=2.5 in c:\\users\\giuli\\anaconda3\\lib\\site-packages (from requests<3,>=2.21.0->tensorflow) (3.7)\n",
      "Requirement already satisfied: urllib3<3,>=1.21.1 in c:\\users\\giuli\\anaconda3\\lib\\site-packages (from requests<3,>=2.21.0->tensorflow) (2.2.3)\n",
      "Requirement already satisfied: certifi>=2017.4.17 in c:\\users\\giuli\\anaconda3\\lib\\site-packages (from requests<3,>=2.21.0->tensorflow) (2025.4.26)\n",
      "Requirement already satisfied: markdown>=2.6.8 in c:\\users\\giuli\\anaconda3\\lib\\site-packages (from tensorboard~=2.19.0->tensorflow) (3.4.1)\n",
      "Requirement already satisfied: tensorboard-data-server<0.8.0,>=0.7.0 in c:\\users\\giuli\\anaconda3\\lib\\site-packages (from tensorboard~=2.19.0->tensorflow) (0.7.2)\n",
      "Requirement already satisfied: werkzeug>=1.0.1 in c:\\users\\giuli\\anaconda3\\lib\\site-packages (from tensorboard~=2.19.0->tensorflow) (3.0.3)\n",
      "Requirement already satisfied: MarkupSafe>=2.1.1 in c:\\users\\giuli\\anaconda3\\lib\\site-packages (from werkzeug>=1.0.1->tensorboard~=2.19.0->tensorflow) (2.1.3)\n",
      "Requirement already satisfied: markdown-it-py>=2.2.0 in c:\\users\\giuli\\anaconda3\\lib\\site-packages (from rich->keras>=3.5.0->tensorflow) (2.2.0)\n",
      "Requirement already satisfied: pygments<3.0.0,>=2.13.0 in c:\\users\\giuli\\anaconda3\\lib\\site-packages (from rich->keras>=3.5.0->tensorflow) (2.15.1)\n",
      "Requirement already satisfied: mdurl~=0.1 in c:\\users\\giuli\\anaconda3\\lib\\site-packages (from markdown-it-py>=2.2.0->rich->keras>=3.5.0->tensorflow) (0.1.0)\n",
      "Requirement already satisfied: torch in c:\\users\\giuli\\anaconda3\\lib\\site-packages (2.7.0)\n",
      "Requirement already satisfied: torchvision in c:\\users\\giuli\\anaconda3\\lib\\site-packages (0.22.0)\n",
      "Requirement already satisfied: filelock in c:\\users\\giuli\\anaconda3\\lib\\site-packages (from torch) (3.13.1)\n",
      "Requirement already satisfied: typing-extensions>=4.10.0 in c:\\users\\giuli\\anaconda3\\lib\\site-packages (from torch) (4.11.0)\n",
      "Requirement already satisfied: sympy>=1.13.3 in c:\\users\\giuli\\anaconda3\\lib\\site-packages (from torch) (1.14.0)\n",
      "Requirement already satisfied: networkx in c:\\users\\giuli\\anaconda3\\lib\\site-packages (from torch) (3.3)\n",
      "Requirement already satisfied: jinja2 in c:\\users\\giuli\\anaconda3\\lib\\site-packages (from torch) (3.1.4)\n",
      "Requirement already satisfied: fsspec in c:\\users\\giuli\\anaconda3\\lib\\site-packages (from torch) (2024.6.1)\n",
      "Requirement already satisfied: setuptools in c:\\users\\giuli\\anaconda3\\lib\\site-packages (from torch) (75.1.0)\n",
      "Requirement already satisfied: numpy in c:\\users\\giuli\\anaconda3\\lib\\site-packages (from torchvision) (1.26.4)\n",
      "Requirement already satisfied: pillow!=8.3.*,>=5.3.0 in c:\\users\\giuli\\anaconda3\\lib\\site-packages (from torchvision) (10.4.0)\n",
      "Requirement already satisfied: mpmath<1.4,>=1.1.0 in c:\\users\\giuli\\anaconda3\\lib\\site-packages (from sympy>=1.13.3->torch) (1.3.0)\n",
      "Requirement already satisfied: MarkupSafe>=2.0 in c:\\users\\giuli\\anaconda3\\lib\\site-packages (from jinja2->torch) (2.1.3)\n"
     ]
    }
   ],
   "source": [
    "!pip install --upgrade pip\n",
    "!pip3 install tensorflow\n",
    "!pip3 install torch torchvision"
   ]
  },
  {
   "cell_type": "code",
   "execution_count": 29,
   "id": "cb76bc10-19d2-48b3-bdb8-4dc58dea4248",
   "metadata": {},
   "outputs": [],
   "source": [
    "import tensorflow as tf\n",
    "import torchvision\n",
    "from tensorflow import keras\n",
    "from tensorflow.keras import layers\n",
    "\n",
    "\n",
    "import sklearn\n",
    "from sklearn.model_selection import GridSearchCV\n",
    "from sklearn.model_selection import train_test_split\n",
    "from sklearn import metrics\n",
    "from astroML.utils import completeness_contamination\n",
    "from sklearn.metrics import roc_curve\n",
    "from sklearn.preprocessing import StandardScaler\n",
    "\n",
    "\n",
    "import pandas as pd\n",
    "import numpy as np\n",
    "import scipy.stats\n",
    "import pylab as plt\n",
    "from matplotlib import pyplot as plt\n",
    "from scipy import stats\n",
    "import random\n",
    "import math\n",
    "import seaborn as sns"
   ]
  },
  {
   "cell_type": "code",
   "execution_count": 3,
   "id": "af55ee7f-bb34-4679-b437-fb304d812304",
   "metadata": {},
   "outputs": [
    {
     "data": {
      "text/plain": [
       "['chi1x',\n",
       " 'chi1y',\n",
       " 'chi1z',\n",
       " 'chi2x',\n",
       " 'chi2y',\n",
       " 'chi2z',\n",
       " 'dec',\n",
       " 'det',\n",
       " 'iota',\n",
       " 'mtot',\n",
       " 'psi',\n",
       " 'q',\n",
       " 'ra',\n",
       " 'snr',\n",
       " 'z']"
      ]
     },
     "execution_count": 3,
     "metadata": {},
     "output_type": "execute_result"
    }
   ],
   "source": [
    "import h5py\n",
    "f = h5py.File('sample_2e7_design_precessing_higherordermodes_3detectors.h5', 'r')\n",
    "list(f.keys())"
   ]
  },
  {
   "cell_type": "code",
   "execution_count": 31,
   "id": "c87be55c-8c2c-4974-875f-32e1b327ac1a",
   "metadata": {},
   "outputs": [
    {
     "data": {
      "text/html": [
       "<div>\n",
       "<style scoped>\n",
       "    .dataframe tbody tr th:only-of-type {\n",
       "        vertical-align: middle;\n",
       "    }\n",
       "\n",
       "    .dataframe tbody tr th {\n",
       "        vertical-align: top;\n",
       "    }\n",
       "\n",
       "    .dataframe thead th {\n",
       "        text-align: right;\n",
       "    }\n",
       "</style>\n",
       "<table border=\"1\" class=\"dataframe\">\n",
       "  <thead>\n",
       "    <tr style=\"text-align: right;\">\n",
       "      <th></th>\n",
       "      <th>chi1x</th>\n",
       "      <th>chi1y</th>\n",
       "      <th>chi1z</th>\n",
       "      <th>chi2x</th>\n",
       "      <th>chi2y</th>\n",
       "      <th>chi2z</th>\n",
       "      <th>dec</th>\n",
       "      <th>det</th>\n",
       "      <th>iota</th>\n",
       "      <th>mtot</th>\n",
       "      <th>psi</th>\n",
       "      <th>q</th>\n",
       "      <th>ra</th>\n",
       "      <th>snr</th>\n",
       "      <th>z</th>\n",
       "    </tr>\n",
       "  </thead>\n",
       "  <tbody>\n",
       "    <tr>\n",
       "      <th>0</th>\n",
       "      <td>-0.307201</td>\n",
       "      <td>0.276165</td>\n",
       "      <td>-0.430760</td>\n",
       "      <td>-0.161114</td>\n",
       "      <td>-0.092334</td>\n",
       "      <td>-0.414647</td>\n",
       "      <td>-0.329671</td>\n",
       "      <td>0</td>\n",
       "      <td>1.809310</td>\n",
       "      <td>906.803562</td>\n",
       "      <td>1.286031</td>\n",
       "      <td>0.624780</td>\n",
       "      <td>-3.116784</td>\n",
       "      <td>0.822509</td>\n",
       "      <td>2.139659</td>\n",
       "    </tr>\n",
       "    <tr>\n",
       "      <th>1</th>\n",
       "      <td>-0.734712</td>\n",
       "      <td>-0.498493</td>\n",
       "      <td>-0.298162</td>\n",
       "      <td>0.057532</td>\n",
       "      <td>-0.844992</td>\n",
       "      <td>0.014708</td>\n",
       "      <td>0.526740</td>\n",
       "      <td>0</td>\n",
       "      <td>0.820820</td>\n",
       "      <td>59.102112</td>\n",
       "      <td>0.934308</td>\n",
       "      <td>0.986650</td>\n",
       "      <td>1.360291</td>\n",
       "      <td>1.093237</td>\n",
       "      <td>2.438707</td>\n",
       "    </tr>\n",
       "    <tr>\n",
       "      <th>2</th>\n",
       "      <td>-0.057831</td>\n",
       "      <td>-0.703796</td>\n",
       "      <td>-0.354512</td>\n",
       "      <td>-0.215538</td>\n",
       "      <td>0.016323</td>\n",
       "      <td>0.130543</td>\n",
       "      <td>0.315799</td>\n",
       "      <td>0</td>\n",
       "      <td>2.008206</td>\n",
       "      <td>44.602750</td>\n",
       "      <td>1.535520</td>\n",
       "      <td>0.286199</td>\n",
       "      <td>0.079973</td>\n",
       "      <td>1.305398</td>\n",
       "      <td>1.869461</td>\n",
       "    </tr>\n",
       "    <tr>\n",
       "      <th>3</th>\n",
       "      <td>0.015260</td>\n",
       "      <td>-0.202467</td>\n",
       "      <td>-0.492768</td>\n",
       "      <td>-0.237033</td>\n",
       "      <td>-0.365363</td>\n",
       "      <td>-0.876192</td>\n",
       "      <td>0.432105</td>\n",
       "      <td>0</td>\n",
       "      <td>2.018398</td>\n",
       "      <td>534.378032</td>\n",
       "      <td>3.064086</td>\n",
       "      <td>0.538882</td>\n",
       "      <td>-1.780558</td>\n",
       "      <td>9.112974</td>\n",
       "      <td>0.428061</td>\n",
       "    </tr>\n",
       "    <tr>\n",
       "      <th>4</th>\n",
       "      <td>-0.016731</td>\n",
       "      <td>0.007848</td>\n",
       "      <td>0.005007</td>\n",
       "      <td>0.147519</td>\n",
       "      <td>0.231879</td>\n",
       "      <td>0.086716</td>\n",
       "      <td>-0.458711</td>\n",
       "      <td>1</td>\n",
       "      <td>2.037363</td>\n",
       "      <td>573.821705</td>\n",
       "      <td>0.752211</td>\n",
       "      <td>0.846310</td>\n",
       "      <td>2.789289</td>\n",
       "      <td>17.525534</td>\n",
       "      <td>0.772609</td>\n",
       "    </tr>\n",
       "    <tr>\n",
       "      <th>...</th>\n",
       "      <td>...</td>\n",
       "      <td>...</td>\n",
       "      <td>...</td>\n",
       "      <td>...</td>\n",
       "      <td>...</td>\n",
       "      <td>...</td>\n",
       "      <td>...</td>\n",
       "      <td>...</td>\n",
       "      <td>...</td>\n",
       "      <td>...</td>\n",
       "      <td>...</td>\n",
       "      <td>...</td>\n",
       "      <td>...</td>\n",
       "      <td>...</td>\n",
       "      <td>...</td>\n",
       "    </tr>\n",
       "    <tr>\n",
       "      <th>19999995</th>\n",
       "      <td>-0.192062</td>\n",
       "      <td>-0.132125</td>\n",
       "      <td>0.099840</td>\n",
       "      <td>0.244232</td>\n",
       "      <td>-0.610395</td>\n",
       "      <td>0.205643</td>\n",
       "      <td>0.227502</td>\n",
       "      <td>0</td>\n",
       "      <td>1.712124</td>\n",
       "      <td>47.173930</td>\n",
       "      <td>0.458902</td>\n",
       "      <td>0.721899</td>\n",
       "      <td>2.747641</td>\n",
       "      <td>0.550924</td>\n",
       "      <td>2.942686</td>\n",
       "    </tr>\n",
       "    <tr>\n",
       "      <th>19999996</th>\n",
       "      <td>-0.004265</td>\n",
       "      <td>-0.056190</td>\n",
       "      <td>-0.030455</td>\n",
       "      <td>0.080665</td>\n",
       "      <td>-0.263666</td>\n",
       "      <td>-0.028503</td>\n",
       "      <td>-0.289584</td>\n",
       "      <td>0</td>\n",
       "      <td>1.796748</td>\n",
       "      <td>319.515160</td>\n",
       "      <td>2.011788</td>\n",
       "      <td>0.276340</td>\n",
       "      <td>-3.010306</td>\n",
       "      <td>6.303695</td>\n",
       "      <td>1.348554</td>\n",
       "    </tr>\n",
       "    <tr>\n",
       "      <th>19999997</th>\n",
       "      <td>-0.558253</td>\n",
       "      <td>-0.107589</td>\n",
       "      <td>0.065246</td>\n",
       "      <td>0.305706</td>\n",
       "      <td>-0.212490</td>\n",
       "      <td>-0.412048</td>\n",
       "      <td>-0.236878</td>\n",
       "      <td>0</td>\n",
       "      <td>0.894741</td>\n",
       "      <td>536.491292</td>\n",
       "      <td>1.776291</td>\n",
       "      <td>0.909982</td>\n",
       "      <td>-1.638381</td>\n",
       "      <td>9.975289</td>\n",
       "      <td>0.826640</td>\n",
       "    </tr>\n",
       "    <tr>\n",
       "      <th>19999998</th>\n",
       "      <td>0.084775</td>\n",
       "      <td>-0.042762</td>\n",
       "      <td>0.017719</td>\n",
       "      <td>0.145657</td>\n",
       "      <td>0.474321</td>\n",
       "      <td>0.744677</td>\n",
       "      <td>0.104063</td>\n",
       "      <td>0</td>\n",
       "      <td>1.102068</td>\n",
       "      <td>879.055152</td>\n",
       "      <td>1.317251</td>\n",
       "      <td>0.287587</td>\n",
       "      <td>2.211932</td>\n",
       "      <td>0.920406</td>\n",
       "      <td>3.125594</td>\n",
       "    </tr>\n",
       "    <tr>\n",
       "      <th>19999999</th>\n",
       "      <td>-0.035950</td>\n",
       "      <td>0.028759</td>\n",
       "      <td>-0.164516</td>\n",
       "      <td>-0.152483</td>\n",
       "      <td>0.272453</td>\n",
       "      <td>0.107908</td>\n",
       "      <td>-0.020803</td>\n",
       "      <td>0</td>\n",
       "      <td>1.965570</td>\n",
       "      <td>39.571308</td>\n",
       "      <td>2.342562</td>\n",
       "      <td>0.554850</td>\n",
       "      <td>2.549561</td>\n",
       "      <td>2.350907</td>\n",
       "      <td>0.908350</td>\n",
       "    </tr>\n",
       "  </tbody>\n",
       "</table>\n",
       "<p>20000000 rows × 15 columns</p>\n",
       "</div>"
      ],
      "text/plain": [
       "             chi1x     chi1y     chi1z     chi2x     chi2y     chi2z  \\\n",
       "0        -0.307201  0.276165 -0.430760 -0.161114 -0.092334 -0.414647   \n",
       "1        -0.734712 -0.498493 -0.298162  0.057532 -0.844992  0.014708   \n",
       "2        -0.057831 -0.703796 -0.354512 -0.215538  0.016323  0.130543   \n",
       "3         0.015260 -0.202467 -0.492768 -0.237033 -0.365363 -0.876192   \n",
       "4        -0.016731  0.007848  0.005007  0.147519  0.231879  0.086716   \n",
       "...            ...       ...       ...       ...       ...       ...   \n",
       "19999995 -0.192062 -0.132125  0.099840  0.244232 -0.610395  0.205643   \n",
       "19999996 -0.004265 -0.056190 -0.030455  0.080665 -0.263666 -0.028503   \n",
       "19999997 -0.558253 -0.107589  0.065246  0.305706 -0.212490 -0.412048   \n",
       "19999998  0.084775 -0.042762  0.017719  0.145657  0.474321  0.744677   \n",
       "19999999 -0.035950  0.028759 -0.164516 -0.152483  0.272453  0.107908   \n",
       "\n",
       "               dec  det      iota        mtot       psi         q        ra  \\\n",
       "0        -0.329671    0  1.809310  906.803562  1.286031  0.624780 -3.116784   \n",
       "1         0.526740    0  0.820820   59.102112  0.934308  0.986650  1.360291   \n",
       "2         0.315799    0  2.008206   44.602750  1.535520  0.286199  0.079973   \n",
       "3         0.432105    0  2.018398  534.378032  3.064086  0.538882 -1.780558   \n",
       "4        -0.458711    1  2.037363  573.821705  0.752211  0.846310  2.789289   \n",
       "...            ...  ...       ...         ...       ...       ...       ...   \n",
       "19999995  0.227502    0  1.712124   47.173930  0.458902  0.721899  2.747641   \n",
       "19999996 -0.289584    0  1.796748  319.515160  2.011788  0.276340 -3.010306   \n",
       "19999997 -0.236878    0  0.894741  536.491292  1.776291  0.909982 -1.638381   \n",
       "19999998  0.104063    0  1.102068  879.055152  1.317251  0.287587  2.211932   \n",
       "19999999 -0.020803    0  1.965570   39.571308  2.342562  0.554850  2.549561   \n",
       "\n",
       "                snr         z  \n",
       "0          0.822509  2.139659  \n",
       "1          1.093237  2.438707  \n",
       "2          1.305398  1.869461  \n",
       "3          9.112974  0.428061  \n",
       "4         17.525534  0.772609  \n",
       "...             ...       ...  \n",
       "19999995   0.550924  2.942686  \n",
       "19999996   6.303695  1.348554  \n",
       "19999997   9.975289  0.826640  \n",
       "19999998   0.920406  3.125594  \n",
       "19999999   2.350907  0.908350  \n",
       "\n",
       "[20000000 rows x 15 columns]"
      ]
     },
     "execution_count": 31,
     "metadata": {},
     "output_type": "execute_result"
    }
   ],
   "source": [
    "d = {i: f[i][:] for i in f.keys()}\n",
    "data = pd.DataFrame(data=d)\n",
    "data"
   ]
  },
  {
   "cell_type": "markdown",
   "id": "2041d641-381f-498a-98a2-b421fc74ef6e",
   "metadata": {},
   "source": [
    "We rescale our data first. We use only the first 20000 rows. Let's split our dataset in test and train sets."
   ]
  },
  {
   "cell_type": "code",
   "execution_count": 199,
   "id": "a97b612c-25fa-4d50-abf5-7d7adfdf7b8e",
   "metadata": {},
   "outputs": [],
   "source": [
    "smaller_data = data[:20000]\n",
    "smaller_data = smaller_data.drop(['det', 'snr'],axis=1)\n",
    "smaller_labels = data.det[:20000]\n",
    "\n",
    "#standardize the data\n",
    "scaler = StandardScaler()\n",
    "smaller_data = scaler.fit_transform(smaller_data)\n",
    "\n",
    "x_train, x_test, y_train, y_test = train_test_split(smaller_data, smaller_labels, train_size = 0.85)"
   ]
  },
  {
   "cell_type": "code",
   "execution_count": 200,
   "id": "1f9d988b-2594-4da3-9360-290b12688334",
   "metadata": {},
   "outputs": [
    {
     "data": {
      "text/plain": [
       "(17000, 13)"
      ]
     },
     "execution_count": 200,
     "metadata": {},
     "output_type": "execute_result"
    }
   ],
   "source": [
    "x_train.shape"
   ]
  },
  {
   "cell_type": "markdown",
   "id": "c1e5299f-4409-458c-8501-989047242b2d",
   "metadata": {},
   "source": [
    "Let's divide the train set in train and validation."
   ]
  },
  {
   "cell_type": "code",
   "execution_count": 201,
   "id": "f185f794-746f-4377-9a48-fba8a59c660d",
   "metadata": {},
   "outputs": [],
   "source": [
    "x_val, y_val = x_train[-13000:,:], y_train[-13000:]\n",
    "x_train, y_train = x_train[:-13000,:], y_train[:-13000]"
   ]
  },
  {
   "cell_type": "code",
   "execution_count": 202,
   "id": "40af8523-9bf6-4b13-afc0-04b7332b9090",
   "metadata": {},
   "outputs": [],
   "source": [
    "model = tf.keras.Sequential([\n",
    "    tf.keras.layers.Input(shape=(13,1)),\n",
    "    tf.keras.layers.Conv1D(300, 9, activation=\"relu\",padding='same'),\n",
    "    tf.keras.layers.MaxPooling1D(3),\n",
    "    tf.keras.layers.Conv1D(400, 9, activation=\"relu\",padding='same'),\n",
    "    tf.keras.layers.MaxPooling1D(3),\n",
    "    tf.keras.layers.Dense(128, activation='relu'),\n",
    "    keras.layers.Dropout(0.5),\n",
    "    tf.keras.layers.Dense(100, activation='relu'),\n",
    "    keras.layers.Dropout(0.5),\n",
    "    tf.keras.layers.Dense(50, activation='relu'),\n",
    "    keras.layers.Dropout(0.5),\n",
    "    tf.keras.layers.Dense(10)\n",
    "])"
   ]
  },
  {
   "cell_type": "code",
   "execution_count": 203,
   "id": "0914ae1c-b461-4bee-a494-4d3bc58cb9b9",
   "metadata": {},
   "outputs": [
    {
     "data": {
      "text/html": [
       "<pre style=\"white-space:pre;overflow-x:auto;line-height:normal;font-family:Menlo,'DejaVu Sans Mono',consolas,'Courier New',monospace\"><span style=\"font-weight: bold\">Model: \"sequential_39\"</span>\n",
       "</pre>\n"
      ],
      "text/plain": [
       "\u001b[1mModel: \"sequential_39\"\u001b[0m\n"
      ]
     },
     "metadata": {},
     "output_type": "display_data"
    },
    {
     "data": {
      "text/html": [
       "<pre style=\"white-space:pre;overflow-x:auto;line-height:normal;font-family:Menlo,'DejaVu Sans Mono',consolas,'Courier New',monospace\">┏━━━━━━━━━━━━━━━━━━━━━━━━━━━━━━━━━┳━━━━━━━━━━━━━━━━━━━━━━━━┳━━━━━━━━━━━━━━━┓\n",
       "┃<span style=\"font-weight: bold\"> Layer (type)                    </span>┃<span style=\"font-weight: bold\"> Output Shape           </span>┃<span style=\"font-weight: bold\">       Param # </span>┃\n",
       "┡━━━━━━━━━━━━━━━━━━━━━━━━━━━━━━━━━╇━━━━━━━━━━━━━━━━━━━━━━━━╇━━━━━━━━━━━━━━━┩\n",
       "│ conv1d_28 (<span style=\"color: #0087ff; text-decoration-color: #0087ff\">Conv1D</span>)              │ (<span style=\"color: #00d7ff; text-decoration-color: #00d7ff\">None</span>, <span style=\"color: #00af00; text-decoration-color: #00af00\">13</span>, <span style=\"color: #00af00; text-decoration-color: #00af00\">300</span>)        │         <span style=\"color: #00af00; text-decoration-color: #00af00\">3,000</span> │\n",
       "├─────────────────────────────────┼────────────────────────┼───────────────┤\n",
       "│ max_pooling1d_23 (<span style=\"color: #0087ff; text-decoration-color: #0087ff\">MaxPooling1D</span>) │ (<span style=\"color: #00d7ff; text-decoration-color: #00d7ff\">None</span>, <span style=\"color: #00af00; text-decoration-color: #00af00\">4</span>, <span style=\"color: #00af00; text-decoration-color: #00af00\">300</span>)         │             <span style=\"color: #00af00; text-decoration-color: #00af00\">0</span> │\n",
       "├─────────────────────────────────┼────────────────────────┼───────────────┤\n",
       "│ conv1d_29 (<span style=\"color: #0087ff; text-decoration-color: #0087ff\">Conv1D</span>)              │ (<span style=\"color: #00d7ff; text-decoration-color: #00d7ff\">None</span>, <span style=\"color: #00af00; text-decoration-color: #00af00\">4</span>, <span style=\"color: #00af00; text-decoration-color: #00af00\">400</span>)         │     <span style=\"color: #00af00; text-decoration-color: #00af00\">1,080,400</span> │\n",
       "├─────────────────────────────────┼────────────────────────┼───────────────┤\n",
       "│ max_pooling1d_24 (<span style=\"color: #0087ff; text-decoration-color: #0087ff\">MaxPooling1D</span>) │ (<span style=\"color: #00d7ff; text-decoration-color: #00d7ff\">None</span>, <span style=\"color: #00af00; text-decoration-color: #00af00\">1</span>, <span style=\"color: #00af00; text-decoration-color: #00af00\">400</span>)         │             <span style=\"color: #00af00; text-decoration-color: #00af00\">0</span> │\n",
       "├─────────────────────────────────┼────────────────────────┼───────────────┤\n",
       "│ dense_110 (<span style=\"color: #0087ff; text-decoration-color: #0087ff\">Dense</span>)               │ (<span style=\"color: #00d7ff; text-decoration-color: #00d7ff\">None</span>, <span style=\"color: #00af00; text-decoration-color: #00af00\">1</span>, <span style=\"color: #00af00; text-decoration-color: #00af00\">128</span>)         │        <span style=\"color: #00af00; text-decoration-color: #00af00\">51,328</span> │\n",
       "├─────────────────────────────────┼────────────────────────┼───────────────┤\n",
       "│ dropout_10 (<span style=\"color: #0087ff; text-decoration-color: #0087ff\">Dropout</span>)            │ (<span style=\"color: #00d7ff; text-decoration-color: #00d7ff\">None</span>, <span style=\"color: #00af00; text-decoration-color: #00af00\">1</span>, <span style=\"color: #00af00; text-decoration-color: #00af00\">128</span>)         │             <span style=\"color: #00af00; text-decoration-color: #00af00\">0</span> │\n",
       "├─────────────────────────────────┼────────────────────────┼───────────────┤\n",
       "│ dense_111 (<span style=\"color: #0087ff; text-decoration-color: #0087ff\">Dense</span>)               │ (<span style=\"color: #00d7ff; text-decoration-color: #00d7ff\">None</span>, <span style=\"color: #00af00; text-decoration-color: #00af00\">1</span>, <span style=\"color: #00af00; text-decoration-color: #00af00\">100</span>)         │        <span style=\"color: #00af00; text-decoration-color: #00af00\">12,900</span> │\n",
       "├─────────────────────────────────┼────────────────────────┼───────────────┤\n",
       "│ dropout_11 (<span style=\"color: #0087ff; text-decoration-color: #0087ff\">Dropout</span>)            │ (<span style=\"color: #00d7ff; text-decoration-color: #00d7ff\">None</span>, <span style=\"color: #00af00; text-decoration-color: #00af00\">1</span>, <span style=\"color: #00af00; text-decoration-color: #00af00\">100</span>)         │             <span style=\"color: #00af00; text-decoration-color: #00af00\">0</span> │\n",
       "├─────────────────────────────────┼────────────────────────┼───────────────┤\n",
       "│ dense_112 (<span style=\"color: #0087ff; text-decoration-color: #0087ff\">Dense</span>)               │ (<span style=\"color: #00d7ff; text-decoration-color: #00d7ff\">None</span>, <span style=\"color: #00af00; text-decoration-color: #00af00\">1</span>, <span style=\"color: #00af00; text-decoration-color: #00af00\">50</span>)          │         <span style=\"color: #00af00; text-decoration-color: #00af00\">5,050</span> │\n",
       "├─────────────────────────────────┼────────────────────────┼───────────────┤\n",
       "│ dropout_12 (<span style=\"color: #0087ff; text-decoration-color: #0087ff\">Dropout</span>)            │ (<span style=\"color: #00d7ff; text-decoration-color: #00d7ff\">None</span>, <span style=\"color: #00af00; text-decoration-color: #00af00\">1</span>, <span style=\"color: #00af00; text-decoration-color: #00af00\">50</span>)          │             <span style=\"color: #00af00; text-decoration-color: #00af00\">0</span> │\n",
       "├─────────────────────────────────┼────────────────────────┼───────────────┤\n",
       "│ dense_113 (<span style=\"color: #0087ff; text-decoration-color: #0087ff\">Dense</span>)               │ (<span style=\"color: #00d7ff; text-decoration-color: #00d7ff\">None</span>, <span style=\"color: #00af00; text-decoration-color: #00af00\">1</span>, <span style=\"color: #00af00; text-decoration-color: #00af00\">10</span>)          │           <span style=\"color: #00af00; text-decoration-color: #00af00\">510</span> │\n",
       "└─────────────────────────────────┴────────────────────────┴───────────────┘\n",
       "</pre>\n"
      ],
      "text/plain": [
       "┏━━━━━━━━━━━━━━━━━━━━━━━━━━━━━━━━━┳━━━━━━━━━━━━━━━━━━━━━━━━┳━━━━━━━━━━━━━━━┓\n",
       "┃\u001b[1m \u001b[0m\u001b[1mLayer (type)                   \u001b[0m\u001b[1m \u001b[0m┃\u001b[1m \u001b[0m\u001b[1mOutput Shape          \u001b[0m\u001b[1m \u001b[0m┃\u001b[1m \u001b[0m\u001b[1m      Param #\u001b[0m\u001b[1m \u001b[0m┃\n",
       "┡━━━━━━━━━━━━━━━━━━━━━━━━━━━━━━━━━╇━━━━━━━━━━━━━━━━━━━━━━━━╇━━━━━━━━━━━━━━━┩\n",
       "│ conv1d_28 (\u001b[38;5;33mConv1D\u001b[0m)              │ (\u001b[38;5;45mNone\u001b[0m, \u001b[38;5;34m13\u001b[0m, \u001b[38;5;34m300\u001b[0m)        │         \u001b[38;5;34m3,000\u001b[0m │\n",
       "├─────────────────────────────────┼────────────────────────┼───────────────┤\n",
       "│ max_pooling1d_23 (\u001b[38;5;33mMaxPooling1D\u001b[0m) │ (\u001b[38;5;45mNone\u001b[0m, \u001b[38;5;34m4\u001b[0m, \u001b[38;5;34m300\u001b[0m)         │             \u001b[38;5;34m0\u001b[0m │\n",
       "├─────────────────────────────────┼────────────────────────┼───────────────┤\n",
       "│ conv1d_29 (\u001b[38;5;33mConv1D\u001b[0m)              │ (\u001b[38;5;45mNone\u001b[0m, \u001b[38;5;34m4\u001b[0m, \u001b[38;5;34m400\u001b[0m)         │     \u001b[38;5;34m1,080,400\u001b[0m │\n",
       "├─────────────────────────────────┼────────────────────────┼───────────────┤\n",
       "│ max_pooling1d_24 (\u001b[38;5;33mMaxPooling1D\u001b[0m) │ (\u001b[38;5;45mNone\u001b[0m, \u001b[38;5;34m1\u001b[0m, \u001b[38;5;34m400\u001b[0m)         │             \u001b[38;5;34m0\u001b[0m │\n",
       "├─────────────────────────────────┼────────────────────────┼───────────────┤\n",
       "│ dense_110 (\u001b[38;5;33mDense\u001b[0m)               │ (\u001b[38;5;45mNone\u001b[0m, \u001b[38;5;34m1\u001b[0m, \u001b[38;5;34m128\u001b[0m)         │        \u001b[38;5;34m51,328\u001b[0m │\n",
       "├─────────────────────────────────┼────────────────────────┼───────────────┤\n",
       "│ dropout_10 (\u001b[38;5;33mDropout\u001b[0m)            │ (\u001b[38;5;45mNone\u001b[0m, \u001b[38;5;34m1\u001b[0m, \u001b[38;5;34m128\u001b[0m)         │             \u001b[38;5;34m0\u001b[0m │\n",
       "├─────────────────────────────────┼────────────────────────┼───────────────┤\n",
       "│ dense_111 (\u001b[38;5;33mDense\u001b[0m)               │ (\u001b[38;5;45mNone\u001b[0m, \u001b[38;5;34m1\u001b[0m, \u001b[38;5;34m100\u001b[0m)         │        \u001b[38;5;34m12,900\u001b[0m │\n",
       "├─────────────────────────────────┼────────────────────────┼───────────────┤\n",
       "│ dropout_11 (\u001b[38;5;33mDropout\u001b[0m)            │ (\u001b[38;5;45mNone\u001b[0m, \u001b[38;5;34m1\u001b[0m, \u001b[38;5;34m100\u001b[0m)         │             \u001b[38;5;34m0\u001b[0m │\n",
       "├─────────────────────────────────┼────────────────────────┼───────────────┤\n",
       "│ dense_112 (\u001b[38;5;33mDense\u001b[0m)               │ (\u001b[38;5;45mNone\u001b[0m, \u001b[38;5;34m1\u001b[0m, \u001b[38;5;34m50\u001b[0m)          │         \u001b[38;5;34m5,050\u001b[0m │\n",
       "├─────────────────────────────────┼────────────────────────┼───────────────┤\n",
       "│ dropout_12 (\u001b[38;5;33mDropout\u001b[0m)            │ (\u001b[38;5;45mNone\u001b[0m, \u001b[38;5;34m1\u001b[0m, \u001b[38;5;34m50\u001b[0m)          │             \u001b[38;5;34m0\u001b[0m │\n",
       "├─────────────────────────────────┼────────────────────────┼───────────────┤\n",
       "│ dense_113 (\u001b[38;5;33mDense\u001b[0m)               │ (\u001b[38;5;45mNone\u001b[0m, \u001b[38;5;34m1\u001b[0m, \u001b[38;5;34m10\u001b[0m)          │           \u001b[38;5;34m510\u001b[0m │\n",
       "└─────────────────────────────────┴────────────────────────┴───────────────┘\n"
      ]
     },
     "metadata": {},
     "output_type": "display_data"
    },
    {
     "data": {
      "text/html": [
       "<pre style=\"white-space:pre;overflow-x:auto;line-height:normal;font-family:Menlo,'DejaVu Sans Mono',consolas,'Courier New',monospace\"><span style=\"font-weight: bold\"> Total params: </span><span style=\"color: #00af00; text-decoration-color: #00af00\">1,153,188</span> (4.40 MB)\n",
       "</pre>\n"
      ],
      "text/plain": [
       "\u001b[1m Total params: \u001b[0m\u001b[38;5;34m1,153,188\u001b[0m (4.40 MB)\n"
      ]
     },
     "metadata": {},
     "output_type": "display_data"
    },
    {
     "data": {
      "text/html": [
       "<pre style=\"white-space:pre;overflow-x:auto;line-height:normal;font-family:Menlo,'DejaVu Sans Mono',consolas,'Courier New',monospace\"><span style=\"font-weight: bold\"> Trainable params: </span><span style=\"color: #00af00; text-decoration-color: #00af00\">1,153,188</span> (4.40 MB)\n",
       "</pre>\n"
      ],
      "text/plain": [
       "\u001b[1m Trainable params: \u001b[0m\u001b[38;5;34m1,153,188\u001b[0m (4.40 MB)\n"
      ]
     },
     "metadata": {},
     "output_type": "display_data"
    },
    {
     "data": {
      "text/html": [
       "<pre style=\"white-space:pre;overflow-x:auto;line-height:normal;font-family:Menlo,'DejaVu Sans Mono',consolas,'Courier New',monospace\"><span style=\"font-weight: bold\"> Non-trainable params: </span><span style=\"color: #00af00; text-decoration-color: #00af00\">0</span> (0.00 B)\n",
       "</pre>\n"
      ],
      "text/plain": [
       "\u001b[1m Non-trainable params: \u001b[0m\u001b[38;5;34m0\u001b[0m (0.00 B)\n"
      ]
     },
     "metadata": {},
     "output_type": "display_data"
    }
   ],
   "source": [
    "model.summary()"
   ]
  },
  {
   "cell_type": "code",
   "execution_count": 204,
   "id": "ba40c8e7-2c92-4abb-8d98-63b9a8f7bb5b",
   "metadata": {},
   "outputs": [],
   "source": [
    "model.compile(optimizer='nadam',\n",
    "              loss=tf.keras.losses.SparseCategoricalCrossentropy(from_logits=True),\n",
    "              metrics=['accuracy'])"
   ]
  },
  {
   "cell_type": "code",
   "execution_count": 205,
   "id": "b6f4ee1a-2061-4326-a1cf-e561f00d7b68",
   "metadata": {},
   "outputs": [
    {
     "name": "stdout",
     "output_type": "stream",
     "text": [
      "Epoch 1/20\n",
      "\u001b[1m125/125\u001b[0m \u001b[32m━━━━━━━━━━━━━━━━━━━━\u001b[0m\u001b[37m\u001b[0m \u001b[1m7s\u001b[0m 31ms/step - accuracy: 0.7547 - loss: 0.9573 - val_accuracy: 0.8542 - val_loss: 0.3128\n",
      "Epoch 2/20\n",
      "\u001b[1m125/125\u001b[0m \u001b[32m━━━━━━━━━━━━━━━━━━━━\u001b[0m\u001b[37m\u001b[0m \u001b[1m4s\u001b[0m 30ms/step - accuracy: 0.8618 - loss: 0.3176 - val_accuracy: 0.9025 - val_loss: 0.2009\n",
      "Epoch 3/20\n",
      "\u001b[1m125/125\u001b[0m \u001b[32m━━━━━━━━━━━━━━━━━━━━\u001b[0m\u001b[37m\u001b[0m \u001b[1m4s\u001b[0m 33ms/step - accuracy: 0.8987 - loss: 0.2217 - val_accuracy: 0.9292 - val_loss: 0.1582\n",
      "Epoch 4/20\n",
      "\u001b[1m125/125\u001b[0m \u001b[32m━━━━━━━━━━━━━━━━━━━━\u001b[0m\u001b[37m\u001b[0m \u001b[1m3s\u001b[0m 27ms/step - accuracy: 0.9168 - loss: 0.1808 - val_accuracy: 0.9308 - val_loss: 0.1541\n",
      "Epoch 5/20\n",
      "\u001b[1m125/125\u001b[0m \u001b[32m━━━━━━━━━━━━━━━━━━━━\u001b[0m\u001b[37m\u001b[0m \u001b[1m4s\u001b[0m 29ms/step - accuracy: 0.9276 - loss: 0.1616 - val_accuracy: 0.9361 - val_loss: 0.1395\n",
      "Epoch 6/20\n",
      "\u001b[1m125/125\u001b[0m \u001b[32m━━━━━━━━━━━━━━━━━━━━\u001b[0m\u001b[37m\u001b[0m \u001b[1m4s\u001b[0m 28ms/step - accuracy: 0.9402 - loss: 0.1415 - val_accuracy: 0.9416 - val_loss: 0.1376\n",
      "Epoch 7/20\n",
      "\u001b[1m125/125\u001b[0m \u001b[32m━━━━━━━━━━━━━━━━━━━━\u001b[0m\u001b[37m\u001b[0m \u001b[1m4s\u001b[0m 32ms/step - accuracy: 0.9390 - loss: 0.1444 - val_accuracy: 0.9405 - val_loss: 0.1337\n",
      "Epoch 8/20\n",
      "\u001b[1m125/125\u001b[0m \u001b[32m━━━━━━━━━━━━━━━━━━━━\u001b[0m\u001b[37m\u001b[0m \u001b[1m4s\u001b[0m 30ms/step - accuracy: 0.9519 - loss: 0.1170 - val_accuracy: 0.9400 - val_loss: 0.1353\n",
      "Epoch 9/20\n",
      "\u001b[1m125/125\u001b[0m \u001b[32m━━━━━━━━━━━━━━━━━━━━\u001b[0m\u001b[37m\u001b[0m \u001b[1m4s\u001b[0m 32ms/step - accuracy: 0.9576 - loss: 0.1133 - val_accuracy: 0.9409 - val_loss: 0.1512\n",
      "Epoch 10/20\n",
      "\u001b[1m125/125\u001b[0m \u001b[32m━━━━━━━━━━━━━━━━━━━━\u001b[0m\u001b[37m\u001b[0m \u001b[1m4s\u001b[0m 30ms/step - accuracy: 0.9600 - loss: 0.1086 - val_accuracy: 0.9411 - val_loss: 0.1406\n",
      "Epoch 11/20\n",
      "\u001b[1m125/125\u001b[0m \u001b[32m━━━━━━━━━━━━━━━━━━━━\u001b[0m\u001b[37m\u001b[0m \u001b[1m4s\u001b[0m 33ms/step - accuracy: 0.9605 - loss: 0.0960 - val_accuracy: 0.9505 - val_loss: 0.1160\n",
      "Epoch 12/20\n",
      "\u001b[1m125/125\u001b[0m \u001b[32m━━━━━━━━━━━━━━━━━━━━\u001b[0m\u001b[37m\u001b[0m \u001b[1m4s\u001b[0m 31ms/step - accuracy: 0.9672 - loss: 0.0832 - val_accuracy: 0.9490 - val_loss: 0.1238\n",
      "Epoch 13/20\n",
      "\u001b[1m125/125\u001b[0m \u001b[32m━━━━━━━━━━━━━━━━━━━━\u001b[0m\u001b[37m\u001b[0m \u001b[1m4s\u001b[0m 29ms/step - accuracy: 0.9644 - loss: 0.0832 - val_accuracy: 0.9491 - val_loss: 0.1251\n",
      "Epoch 14/20\n",
      "\u001b[1m125/125\u001b[0m \u001b[32m━━━━━━━━━━━━━━━━━━━━\u001b[0m\u001b[37m\u001b[0m \u001b[1m4s\u001b[0m 36ms/step - accuracy: 0.9703 - loss: 0.0747 - val_accuracy: 0.9508 - val_loss: 0.1215\n",
      "Epoch 15/20\n",
      "\u001b[1m125/125\u001b[0m \u001b[32m━━━━━━━━━━━━━━━━━━━━\u001b[0m\u001b[37m\u001b[0m \u001b[1m4s\u001b[0m 32ms/step - accuracy: 0.9744 - loss: 0.0659 - val_accuracy: 0.9460 - val_loss: 0.1503\n",
      "Epoch 16/20\n",
      "\u001b[1m125/125\u001b[0m \u001b[32m━━━━━━━━━━━━━━━━━━━━\u001b[0m\u001b[37m\u001b[0m \u001b[1m4s\u001b[0m 31ms/step - accuracy: 0.9709 - loss: 0.0713 - val_accuracy: 0.9362 - val_loss: 0.1866\n",
      "Epoch 17/20\n",
      "\u001b[1m125/125\u001b[0m \u001b[32m━━━━━━━━━━━━━━━━━━━━\u001b[0m\u001b[37m\u001b[0m \u001b[1m4s\u001b[0m 30ms/step - accuracy: 0.9791 - loss: 0.0618 - val_accuracy: 0.9484 - val_loss: 0.1233\n",
      "Epoch 18/20\n",
      "\u001b[1m125/125\u001b[0m \u001b[32m━━━━━━━━━━━━━━━━━━━━\u001b[0m\u001b[37m\u001b[0m \u001b[1m4s\u001b[0m 31ms/step - accuracy: 0.9755 - loss: 0.0647 - val_accuracy: 0.9493 - val_loss: 0.1492\n",
      "Epoch 19/20\n",
      "\u001b[1m125/125\u001b[0m \u001b[32m━━━━━━━━━━━━━━━━━━━━\u001b[0m\u001b[37m\u001b[0m \u001b[1m4s\u001b[0m 33ms/step - accuracy: 0.9736 - loss: 0.0688 - val_accuracy: 0.9499 - val_loss: 0.1193\n",
      "Epoch 20/20\n",
      "\u001b[1m125/125\u001b[0m \u001b[32m━━━━━━━━━━━━━━━━━━━━\u001b[0m\u001b[37m\u001b[0m \u001b[1m4s\u001b[0m 30ms/step - accuracy: 0.9796 - loss: 0.0553 - val_accuracy: 0.9378 - val_loss: 0.1515\n"
     ]
    },
    {
     "data": {
      "text/plain": [
       "<keras.src.callbacks.history.History at 0x16b3cd45580>"
      ]
     },
     "execution_count": 205,
     "metadata": {},
     "output_type": "execute_result"
    }
   ],
   "source": [
    "model.fit(x_train, y_train, epochs=20, validation_data=(x_val, y_val))"
   ]
  },
  {
   "cell_type": "code",
   "execution_count": 206,
   "id": "d1271167-fac3-43af-9338-06ceebb889f7",
   "metadata": {},
   "outputs": [
    {
     "name": "stdout",
     "output_type": "stream",
     "text": [
      "\u001b[1m94/94\u001b[0m \u001b[32m━━━━━━━━━━━━━━━━━━━━\u001b[0m\u001b[37m\u001b[0m \u001b[1m1s\u001b[0m 5ms/step\n"
     ]
    }
   ],
   "source": [
    "y_pred = np.argmax(model.predict(x_test), axis=-1)\n",
    "completeness, contamination = completeness_contamination(y_pred.flatten(), y_test)"
   ]
  },
  {
   "cell_type": "code",
   "execution_count": 207,
   "id": "d2403819-3f1e-4f3c-ad10-d62295086420",
   "metadata": {},
   "outputs": [
    {
     "name": "stdout",
     "output_type": "stream",
     "text": [
      "Completeness:  0.9292929292929293\n",
      "Contamination:  0.2868217054263566\n"
     ]
    }
   ],
   "source": [
    "print('Completeness: ', completeness)\n",
    "print('Contamination: ', contamination)"
   ]
  },
  {
   "cell_type": "markdown",
   "id": "bdd2e192-4ce3-42a1-854c-8f35350acb17",
   "metadata": {},
   "source": [
    "Now, let's use the entire dataset."
   ]
  },
  {
   "cell_type": "code",
   "execution_count": 208,
   "id": "25f39787-cd86-400d-b394-3220cc5636e9",
   "metadata": {},
   "outputs": [],
   "source": [
    "all_data = data.drop(['det', 'snr'],axis=1)\n",
    "\n",
    "scaler = StandardScaler()\n",
    "all_data = scaler.fit_transform(all_data)\n",
    "\n",
    "x_train, x_test, y_train, y_test = train_test_split(all_data, data.det, train_size = 0.85)"
   ]
  },
  {
   "cell_type": "code",
   "execution_count": 209,
   "id": "bd737877-67aa-48d2-9054-b50586b7def9",
   "metadata": {},
   "outputs": [],
   "source": [
    "x_val, y_val = x_train[-1300000:,:], y_train[-1300000:]\n",
    "x_train, y_train = x_train[:-1300000,:], y_train[:-1300000]"
   ]
  },
  {
   "cell_type": "code",
   "execution_count": 210,
   "id": "6f0e46b6-4f81-42b5-9fc1-0be7b7a2ea90",
   "metadata": {},
   "outputs": [
    {
     "name": "stdout",
     "output_type": "stream",
     "text": [
      "\u001b[1m490625/490625\u001b[0m \u001b[32m━━━━━━━━━━━━━━━━━━━━\u001b[0m\u001b[37m\u001b[0m \u001b[1m7198s\u001b[0m 15ms/step - accuracy: 0.9715 - loss: 0.0698 - val_accuracy: 0.9777 - val_loss: 0.0602\n"
     ]
    },
    {
     "data": {
      "text/plain": [
       "<keras.src.callbacks.history.History at 0x16b3cd3f440>"
      ]
     },
     "execution_count": 210,
     "metadata": {},
     "output_type": "execute_result"
    }
   ],
   "source": [
    "model.fit(x_train, y_train, epochs=1, validation_data=(x_val, y_val))"
   ]
  },
  {
   "cell_type": "code",
   "execution_count": 211,
   "id": "8892dc5b-3dee-4f8a-ac48-33d3f06071e1",
   "metadata": {},
   "outputs": [
    {
     "name": "stdout",
     "output_type": "stream",
     "text": [
      "\u001b[1m93750/93750\u001b[0m \u001b[32m━━━━━━━━━━━━━━━━━━━━\u001b[0m\u001b[37m\u001b[0m \u001b[1m530s\u001b[0m 6ms/step\n"
     ]
    }
   ],
   "source": [
    "y_pred = np.argmax(model.predict(x_test), axis=-1)\n",
    "completeness, contamination = completeness_contamination(y_pred.flatten(), y_test)"
   ]
  },
  {
   "cell_type": "code",
   "execution_count": 212,
   "id": "c2c62102-bffb-426b-b199-6a77ee5e1f68",
   "metadata": {},
   "outputs": [
    {
     "name": "stdout",
     "output_type": "stream",
     "text": [
      "Completeness:  0.9359304245174261\n",
      "Contamination:  0.08749260985188233\n"
     ]
    }
   ],
   "source": [
    "print('Completeness: ', completeness)\n",
    "print('Contamination: ', contamination)"
   ]
  },
  {
   "cell_type": "code",
   "execution_count": null,
   "id": "74785f71-6d60-4c52-a6a6-58cfee03ea40",
   "metadata": {},
   "outputs": [],
   "source": []
  }
 ],
 "metadata": {
  "kernelspec": {
   "display_name": "Python 3 (ipykernel)",
   "language": "python",
   "name": "python3"
  },
  "language_info": {
   "codemirror_mode": {
    "name": "ipython",
    "version": 3
   },
   "file_extension": ".py",
   "mimetype": "text/x-python",
   "name": "python",
   "nbconvert_exporter": "python",
   "pygments_lexer": "ipython3",
   "version": "3.12.7"
  }
 },
 "nbformat": 4,
 "nbformat_minor": 5
}
